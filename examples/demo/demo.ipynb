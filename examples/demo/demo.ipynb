{
 "metadata": {
  "name": "",
  "signature": "sha256:56674cc3dc0f22854b6c7c495569b7f0aa3a6a4511eb0735c3d7156c3da786c3"
 },
 "nbformat": 3,
 "nbformat_minor": 0,
 "worksheets": [
  {
   "cells": [
    {
     "cell_type": "heading",
     "level": 1,
     "metadata": {},
     "source": [
      "WNTR Demo"
     ]
    },
    {
     "cell_type": "heading",
     "level": 4,
     "metadata": {},
     "source": [
      "Import python packages, including WNTR"
     ]
    },
    {
     "cell_type": "code",
     "collapsed": false,
     "input": [
      "% matplotlib inline\n",
      "\n",
      "import numpy as np\n",
      "import pandas as pd\n",
      "import pickle\n",
      "import matplotlib.pylab as plt\n",
      "import wntr\n",
      "\n",
      "np.random.seed(12345)"
     ],
     "language": "python",
     "metadata": {},
     "outputs": [],
     "prompt_number": 1
    },
    {
     "cell_type": "heading",
     "level": 4,
     "metadata": {},
     "source": [
      "Create a water network model using an EPANET inp file"
     ]
    },
    {
     "cell_type": "code",
     "collapsed": false,
     "input": [
      "inp_file = '../networks/Net3.inp'\n",
      "wn = wntr.network.WaterNetworkModel(inp_file)"
     ],
     "language": "python",
     "metadata": {},
     "outputs": [],
     "prompt_number": 2
    },
    {
     "cell_type": "heading",
     "level": 4,
     "metadata": {},
     "source": [
      "Define earthquake epicenter, magnitude, and depth"
     ]
    },
    {
     "cell_type": "code",
     "collapsed": false,
     "input": [
      "epicenter = (200,150) # x,y location\n",
      "magnitude = 5 # Richter scale\n",
      "depth = 10000 # m, shallow depth"
     ],
     "language": "python",
     "metadata": {},
     "outputs": [],
     "prompt_number": 3
    },
    {
     "cell_type": "heading",
     "level": 4,
     "metadata": {},
     "source": [
      "Plot location on the network"
     ]
    },
    {
     "cell_type": "code",
     "collapsed": false,
     "input": [
      "wntr.network.draw_graph(wn, node_size=0, figsize=(10,8), dpi=100)\n",
      "plt.hold('True')\n",
      "plt.scatter(epicenter[0], epicenter[1], s = 1000, c = 'r', marker='*', zorder=2)"
     ],
     "language": "python",
     "metadata": {},
     "outputs": [
      {
       "metadata": {},
       "output_type": "pyout",
       "prompt_number": 4,
       "text": [
        "<matplotlib.collections.PathCollection at 0x127c75d0>"
       ]
      },
      {
       "metadata": {},
       "output_type": "display_data",
       "png": "[encoded data removed]",
       "text": [
        "<matplotlib.figure.Figure at 0x4ef75f0>"
       ]
      }
     ],
     "prompt_number": 4
    },
    {
     "cell_type": "heading",
     "level": 4,
     "metadata": {},
     "source": [
      "Generate the earthquake scenario"
     ]
    },
    {
     "cell_type": "code",
     "collapsed": false,
     "input": [
      "#This scenario assumes uniform pipe and soil type throughout the network.  These parameters can be set for individual pipes\n",
      "#PGA = 0.001 g (0.01 m/s2) \u2013 perceptible by people\n",
      "#PGA = 0.02  g (0.2  m/s2) \u2013 people lose their balance\n",
      "#PGA = 0.50  g (5 m/s2) \u2013 very high; well-designed buildings can survive if the duration is short\n",
      "#Repair rate of 1/km (0.001/m) has been suggested as an upper bound\n",
      "\n",
      "earthquake = wntr.scenario.Earthquake(epicenter, magnitude, depth)\n",
      "earthquake.generate(wn, coordinate_scale=500, correct_length=False)\n",
      "\n",
      "print \"Min, Max, Average PGA: \" + str(np.round(np.min(earthquake.pga.values()),2)) + \", \" + str(np.round(np.max(earthquake.pga.values()),2)) + \", \" + str(np.round(np.mean(earthquake.pga.values()),2)) + \" m/s2\"\n",
      "print \"Min, Max, Average repair rate: \" + str(np.round(np.min(earthquake.repair_rate.values()),5)) + \", \" + str(np.round(np.max(earthquake.repair_rate.values()),5)) + \", \" + str(np.round(np.mean(earthquake.repair_rate.values()),5)) + \" per m\"\n",
      "print \"Number of pipe failures: \" + str(len(earthquake.pipes_to_leak))"
     ],
     "language": "python",
     "metadata": {},
     "outputs": [
      {
       "output_type": "stream",
       "stream": "stdout",
       "text": [
        "Min, Max, Average PGA: 0.09, 0.1, 0.09 m/s2\n",
        "Min, Max, Average repair rate: 3e-05, 6e-05, 5e-05 per m\n",
        "Number of pipe failures: 10\n"
       ]
      }
     ],
     "prompt_number": 5
    },
    {
     "cell_type": "heading",
     "level": 4,
     "metadata": {},
     "source": [
      "Plot peak ground acceleration"
     ]
    },
    {
     "cell_type": "code",
     "collapsed": false,
     "input": [
      "wntr.network.draw_graph(wn, link_attribute=earthquake.pga, node_size=0, link_width=1.5, link_range=[0, np.max(earthquake.pga.values())], title='Peak ground acceleration', figsize=(12,8), dpi=100)"
     ],
     "language": "python",
     "metadata": {},
     "outputs": [
      {
       "metadata": {},
       "output_type": "display_data",
       "png": "[encoded data removed]",
       "text": [
        "<matplotlib.figure.Figure at 0x4ef7630>"
       ]
      }
     ],
     "prompt_number": 6
    },
    {
     "cell_type": "heading",
     "level": 4,
     "metadata": {},
     "source": [
      "Plot repair rate (# of repairs needed per m)"
     ]
    },
    {
     "cell_type": "code",
     "collapsed": false,
     "input": [
      "wntr.network.draw_graph(wn, link_attribute=earthquake.repair_rate, node_size=0, link_width=1.5, link_range=[0,np.max(earthquake.repair_rate.values())], title='Repair rate', figsize=(12,8), dpi=100)"
     ],
     "language": "python",
     "metadata": {},
     "outputs": [
      {
       "metadata": {},
       "output_type": "display_data",
       "png": "[encoded data removed]",
       "text": [
        "<matplotlib.figure.Figure at 0x12af63d0>"
       ]
      }
     ],
     "prompt_number": 7
    },
    {
     "cell_type": "heading",
     "level": 4,
     "metadata": {},
     "source": [
      "Plot location of pipes with leaks"
     ]
    },
    {
     "cell_type": "code",
     "collapsed": false,
     "input": [
      "wntr.network.draw_graph(wn, link_attribute=earthquake.probability_of_leak, node_size=0, link_width=1.5, link_range=[0,1], title='Probability of pipe failure', figsize=(12,8), dpi=100)\n",
      "\n",
      "gray_red_colormap = wntr.network.custom_colormap(2, colors = ['0.75','red'])\n",
      "wntr.network.draw_graph(wn, link_attribute=earthquake.pipe_status, node_size=0, link_width=1.5, link_cmap=gray_red_colormap, link_range=[0,1], title='Failed pipes (in red)', add_colorbar=False, figsize=(10,8), dpi=100)"
     ],
     "language": "python",
     "metadata": {},
     "outputs": [
      {
       "metadata": {},
       "output_type": "display_data",
       "png": "[encoded data removed]",
       "text": [
        "<matplotlib.figure.Figure at 0x129bcab0>"
       ]
      },
      {
       "metadata": {},
       "output_type": "display_data",
       "png": "[encoded data removed]",
       "text": [
        "<matplotlib.figure.Figure at 0x12d82430>"
       ]
      }
     ],
     "prompt_number": 8
    },
    {
     "cell_type": "heading",
     "level": 4,
     "metadata": {},
     "source": [
      "Add leaks to the model and simulate hydraulics"
     ]
    },
    {
     "cell_type": "code",
     "collapsed": false,
     "input": [
      "# The simulation uses pressure driven hydraulics and leak models to account for loss.\n",
      "wn.set_nominal_pressures(constant_nominal_pressure = 15) \n",
      "wn.time_options['DURATION'] = 24*3600\n",
      "wn.time_options['HYDRAULIC TIMESTEP'] = 600\n",
      "wn.time_options['REPORT TIMESTEP'] = 600\n",
      "sim = wntr.sim.PyomoSimulator(wn,'PRESSURE DRIVEN')\n",
      "\n",
      "time_of_failure = 5 # time of failure\n",
      "duration_of_failure = 20 # Select duration of failure     \n",
      "for pipe_name in earthquake.pipes_to_leak:\n",
      "    # Select leak diameter, uniform dist, between 0.01 and pipe diameter \n",
      "    pipe_diameter = wn.get_link(pipe_name).diameter\n",
      "    leak_diameter = np.round(np.random.uniform(0.01,0.25*pipe_diameter,1), 2) \n",
      "    # Add pipe leak to the simulator\n",
      "    sim.add_leak(leak_name = pipe_name, pipe_name = pipe_name, leak_diameter = leak_diameter[0], \n",
      "                 start_time = pd.Timedelta(time_of_failure, unit='h'), fix_time = pd.Timedelta(time_of_failure + duration_of_failure, unit='h'))\n",
      "        \n",
      "results = sim.run_sim(demo=False)\n",
      "pickle.dump(results, open('demo.pickle', 'wb'))"
     ],
     "language": "python",
     "metadata": {},
     "outputs": [
      {
       "output_type": "stream",
       "stream": "stdout",
       "text": [
        "Running Hydraulic Simulation at time 0 days 00:00:00  ... \n"
       ]
      },
      {
       "output_type": "stream",
       "stream": "stdout",
       "text": [
        "Running Hydraulic Simulation at time 0 days 00:10:00  ... \n"
       ]
      },
      {
       "output_type": "stream",
       "stream": "stdout",
       "text": [
        "Running Hydraulic Simulation at time 0 days 00:20:00  ... \n"
       ]
      },
      {
       "output_type": "stream",
       "stream": "stdout",
       "text": [
        "Running Hydraulic Simulation at time 0 days 00:30:00  ... \n"
       ]
      },
      {
       "output_type": "stream",
       "stream": "stdout",
       "text": [
        "Running Hydraulic Simulation at time 0 days 00:40:00  ... \n"
       ]
      },
      {
       "output_type": "stream",
       "stream": "stdout",
       "text": [
        "Running Hydraulic Simulation at time 0 days 00:50:00  ... \n"
       ]
      },
      {
       "output_type": "stream",
       "stream": "stdout",
       "text": [
        "Running Hydraulic Simulation at time 0 days 01:00:00  ... \n"
       ]
      },
      {
       "output_type": "stream",
       "stream": "stdout",
       "text": [
        "Running Hydraulic Simulation at time 0 days 01:10:00  ... \n"
       ]
      },
      {
       "output_type": "stream",
       "stream": "stdout",
       "text": [
        "Running Hydraulic Simulation at time 0 days 01:20:00  ... \n"
       ]
      },
      {
       "output_type": "stream",
       "stream": "stdout",
       "text": [
        "Running Hydraulic Simulation at time 0 days 01:30:00  ... \n"
       ]
      },
      {
       "output_type": "stream",
       "stream": "stdout",
       "text": [
        "Running Hydraulic Simulation at time 0 days 01:40:00  ... \n"
       ]
      },
      {
       "output_type": "stream",
       "stream": "stdout",
       "text": [
        "Running Hydraulic Simulation at time 0 days 01:50:00  ... \n"
       ]
      },
      {
       "output_type": "stream",
       "stream": "stdout",
       "text": [
        "Running Hydraulic Simulation at time 0 days 02:00:00  ... \n"
       ]
      },
      {
       "output_type": "stream",
       "stream": "stdout",
       "text": [
        "Running Hydraulic Simulation at time 0 days 02:10:00  ... \n"
       ]
      },
      {
       "output_type": "stream",
       "stream": "stdout",
       "text": [
        "Running Hydraulic Simulation at time 0 days 02:20:00  ... \n"
       ]
      },
      {
       "output_type": "stream",
       "stream": "stdout",
       "text": [
        "Running Hydraulic Simulation at time 0 days 02:30:00  ... \n"
       ]
      },
      {
       "output_type": "stream",
       "stream": "stdout",
       "text": [
        "Running Hydraulic Simulation at time 0 days 02:40:00  ... \n"
       ]
      },
      {
       "output_type": "stream",
       "stream": "stdout",
       "text": [
        "Running Hydraulic Simulation at time 0 days 02:50:00  ... \n"
       ]
      },
      {
       "output_type": "stream",
       "stream": "stdout",
       "text": [
        "Running Hydraulic Simulation at time 0 days 03:00:00  ... \n"
       ]
      },
      {
       "output_type": "stream",
       "stream": "stdout",
       "text": [
        "Running Hydraulic Simulation at time 0 days 03:10:00  ... \n"
       ]
      },
      {
       "output_type": "stream",
       "stream": "stdout",
       "text": [
        "Running Hydraulic Simulation at time 0 days 03:20:00  ... \n"
       ]
      },
      {
       "output_type": "stream",
       "stream": "stdout",
       "text": [
        "Running Hydraulic Simulation at time 0 days 03:30:00  ... \n"
       ]
      },
      {
       "output_type": "stream",
       "stream": "stdout",
       "text": [
        "Running Hydraulic Simulation at time 0 days 03:40:00  ... \n"
       ]
      },
      {
       "output_type": "stream",
       "stream": "stdout",
       "text": [
        "Running Hydraulic Simulation at time 0 days 03:50:00  ... \n"
       ]
      },
      {
       "output_type": "stream",
       "stream": "stdout",
       "text": [
        "Running Hydraulic Simulation at time 0 days 04:00:00  ... \n"
       ]
      },
      {
       "output_type": "stream",
       "stream": "stdout",
       "text": [
        "Running Hydraulic Simulation at time 0 days 04:10:00  ... \n"
       ]
      },
      {
       "output_type": "stream",
       "stream": "stdout",
       "text": [
        "Running Hydraulic Simulation at time 0 days 04:20:00  ... \n"
       ]
      },
      {
       "output_type": "stream",
       "stream": "stdout",
       "text": [
        "Running Hydraulic Simulation at time 0 days 04:30:00  ... \n"
       ]
      },
      {
       "output_type": "stream",
       "stream": "stdout",
       "text": [
        "Running Hydraulic Simulation at time 0 days 04:40:00  ... \n"
       ]
      },
      {
       "output_type": "stream",
       "stream": "stdout",
       "text": [
        "Running Hydraulic Simulation at time 0 days 04:50:00  ... \n"
       ]
      },
      {
       "output_type": "stream",
       "stream": "stdout",
       "text": [
        "Running Hydraulic Simulation at time 0 days 05:00:00  ... \n"
       ]
      },
      {
       "output_type": "stream",
       "stream": "stdout",
       "text": [
        "Running Hydraulic Simulation at time 0 days 05:10:00  ... \n"
       ]
      },
      {
       "output_type": "stream",
       "stream": "stdout",
       "text": [
        "Running Hydraulic Simulation at time 0 days 05:20:00  ... \n"
       ]
      },
      {
       "output_type": "stream",
       "stream": "stdout",
       "text": [
        "Running Hydraulic Simulation at time 0 days 05:30:00  ... \n"
       ]
      },
      {
       "output_type": "stream",
       "stream": "stdout",
       "text": [
        "Running Hydraulic Simulation at time 0 days 05:40:00  ... \n"
       ]
      },
      {
       "output_type": "stream",
       "stream": "stdout",
       "text": [
        "Running Hydraulic Simulation at time 0 days 05:50:00  ... \n"
       ]
      },
      {
       "output_type": "stream",
       "stream": "stdout",
       "text": [
        "Running Hydraulic Simulation at time 0 days 06:00:00  ... \n"
       ]
      },
      {
       "output_type": "stream",
       "stream": "stdout",
       "text": [
        "Running Hydraulic Simulation at time 0 days 06:10:00  ... \n"
       ]
      },
      {
       "output_type": "stream",
       "stream": "stdout",
       "text": [
        "Running Hydraulic Simulation at time 0 days 06:20:00  ... \n"
       ]
      },
      {
       "output_type": "stream",
       "stream": "stdout",
       "text": [
        "Running Hydraulic Simulation at time 0 days 06:30:00  ... \n"
       ]
      },
      {
       "output_type": "stream",
       "stream": "stdout",
       "text": [
        "Running Hydraulic Simulation at time 0 days 06:40:00  ... \n"
       ]
      },
      {
       "output_type": "stream",
       "stream": "stdout",
       "text": [
        "Running Hydraulic Simulation at time 0 days 06:50:00  ... \n"
       ]
      },
      {
       "output_type": "stream",
       "stream": "stdout",
       "text": [
        "Running Hydraulic Simulation at time 0 days 07:00:00  ... \n"
       ]
      },
      {
       "output_type": "stream",
       "stream": "stdout",
       "text": [
        "Running Hydraulic Simulation at time 0 days 07:10:00  ... \n"
       ]
      },
      {
       "output_type": "stream",
       "stream": "stdout",
       "text": [
        "Running Hydraulic Simulation at time 0 days 07:20:00  ... \n"
       ]
      },
      {
       "output_type": "stream",
       "stream": "stdout",
       "text": [
        "Running Hydraulic Simulation at time 0 days 07:30:00  ... \n"
       ]
      },
      {
       "output_type": "stream",
       "stream": "stdout",
       "text": [
        "Running Hydraulic Simulation at time 0 days 07:40:00  ... \n"
       ]
      },
      {
       "output_type": "stream",
       "stream": "stdout",
       "text": [
        "Running Hydraulic Simulation at time 0 days 07:50:00  ... \n"
       ]
      },
      {
       "output_type": "stream",
       "stream": "stdout",
       "text": [
        "Running Hydraulic Simulation at time 0 days 08:00:00  ... \n"
       ]
      },
      {
       "output_type": "stream",
       "stream": "stdout",
       "text": [
        "Running Hydraulic Simulation at time 0 days 08:10:00  ... \n"
       ]
      },
      {
       "output_type": "stream",
       "stream": "stdout",
       "text": [
        "Running Hydraulic Simulation at time 0 days 08:20:00  ... \n"
       ]
      },
      {
       "output_type": "stream",
       "stream": "stdout",
       "text": [
        "Running Hydraulic Simulation at time 0 days 08:30:00  ... \n"
       ]
      },
      {
       "output_type": "stream",
       "stream": "stdout",
       "text": [
        "Running Hydraulic Simulation at time 0 days 08:40:00  ... \n"
       ]
      },
      {
       "output_type": "stream",
       "stream": "stdout",
       "text": [
        "Running Hydraulic Simulation at time 0 days 08:50:00  ... \n"
       ]
      },
      {
       "output_type": "stream",
       "stream": "stdout",
       "text": [
        "Running Hydraulic Simulation at time 0 days 09:00:00  ... \n"
       ]
      },
      {
       "output_type": "stream",
       "stream": "stdout",
       "text": [
        "Running Hydraulic Simulation at time 0 days 09:10:00  ... \n"
       ]
      },
      {
       "output_type": "stream",
       "stream": "stdout",
       "text": [
        "Running Hydraulic Simulation at time 0 days 09:20:00  ... \n"
       ]
      },
      {
       "output_type": "stream",
       "stream": "stdout",
       "text": [
        "Running Hydraulic Simulation at time 0 days 09:30:00  ... \n"
       ]
      },
      {
       "output_type": "stream",
       "stream": "stdout",
       "text": [
        "Running Hydraulic Simulation at time 0 days 09:40:00  ... \n"
       ]
      },
      {
       "output_type": "stream",
       "stream": "stdout",
       "text": [
        "Running Hydraulic Simulation at time 0 days 09:50:00  ... \n"
       ]
      },
      {
       "output_type": "stream",
       "stream": "stdout",
       "text": [
        "Running Hydraulic Simulation at time 0 days 10:00:00  ... \n"
       ]
      },
      {
       "output_type": "stream",
       "stream": "stdout",
       "text": [
        "Running Hydraulic Simulation at time 0 days 10:10:00  ... \n"
       ]
      },
      {
       "output_type": "stream",
       "stream": "stdout",
       "text": [
        "Running Hydraulic Simulation at time 0 days 10:20:00  ... \n"
       ]
      },
      {
       "output_type": "stream",
       "stream": "stdout",
       "text": [
        "Running Hydraulic Simulation at time 0 days 10:30:00  ... \n"
       ]
      },
      {
       "output_type": "stream",
       "stream": "stdout",
       "text": [
        "Running Hydraulic Simulation at time 0 days 10:40:00  ... \n"
       ]
      },
      {
       "output_type": "stream",
       "stream": "stdout",
       "text": [
        "Running Hydraulic Simulation at time 0 days 10:50:00  ... \n"
       ]
      },
      {
       "output_type": "stream",
       "stream": "stdout",
       "text": [
        "Running Hydraulic Simulation at time 0 days 11:00:00  ... \n"
       ]
      },
      {
       "output_type": "stream",
       "stream": "stdout",
       "text": [
        "Running Hydraulic Simulation at time 0 days 11:10:00  ... \n"
       ]
      },
      {
       "output_type": "stream",
       "stream": "stdout",
       "text": [
        "Running Hydraulic Simulation at time 0 days 11:20:00  ... \n"
       ]
      },
      {
       "output_type": "stream",
       "stream": "stdout",
       "text": [
        "Running Hydraulic Simulation at time 0 days 11:30:00  ... \n"
       ]
      },
      {
       "output_type": "stream",
       "stream": "stdout",
       "text": [
        "Running Hydraulic Simulation at time 0 days 11:40:00  ... \n"
       ]
      },
      {
       "output_type": "stream",
       "stream": "stdout",
       "text": [
        "Running Hydraulic Simulation at time 0 days 11:50:00  ... \n"
       ]
      },
      {
       "output_type": "stream",
       "stream": "stdout",
       "text": [
        "Running Hydraulic Simulation at time 0 days 12:00:00  ... \n"
       ]
      },
      {
       "output_type": "stream",
       "stream": "stdout",
       "text": [
        "Running Hydraulic Simulation at time 0 days 12:10:00  ... \n"
       ]
      },
      {
       "output_type": "stream",
       "stream": "stdout",
       "text": [
        "Running Hydraulic Simulation at time 0 days 12:20:00  ... \n"
       ]
      },
      {
       "output_type": "stream",
       "stream": "stdout",
       "text": [
        "Running Hydraulic Simulation at time 0 days 12:30:00  ... \n"
       ]
      },
      {
       "output_type": "stream",
       "stream": "stdout",
       "text": [
        "Running Hydraulic Simulation at time 0 days 12:40:00  ... \n"
       ]
      },
      {
       "output_type": "stream",
       "stream": "stdout",
       "text": [
        "Running Hydraulic Simulation at time 0 days 12:50:00  ... \n"
       ]
      },
      {
       "output_type": "stream",
       "stream": "stdout",
       "text": [
        "Running Hydraulic Simulation at time 0 days 13:00:00  ... \n"
       ]
      },
      {
       "output_type": "stream",
       "stream": "stdout",
       "text": [
        "Running Hydraulic Simulation at time 0 days 13:10:00  ... \n"
       ]
      },
      {
       "output_type": "stream",
       "stream": "stdout",
       "text": [
        "Running Hydraulic Simulation at time 0 days 13:20:00  ... \n"
       ]
      },
      {
       "output_type": "stream",
       "stream": "stdout",
       "text": [
        "Running Hydraulic Simulation at time 0 days 13:30:00  ... \n"
       ]
      },
      {
       "output_type": "stream",
       "stream": "stdout",
       "text": [
        "Running Hydraulic Simulation at time 0 days 13:40:00  ... \n"
       ]
      },
      {
       "output_type": "stream",
       "stream": "stdout",
       "text": [
        "Running Hydraulic Simulation at time 0 days 13:50:00  ... \n"
       ]
      },
      {
       "output_type": "stream",
       "stream": "stdout",
       "text": [
        "Running Hydraulic Simulation at time 0 days 14:00:00  ... \n"
       ]
      },
      {
       "output_type": "stream",
       "stream": "stdout",
       "text": [
        "Running Hydraulic Simulation at time 0 days 14:10:00  ... \n"
       ]
      },
      {
       "output_type": "stream",
       "stream": "stdout",
       "text": [
        "Running Hydraulic Simulation at time 0 days 14:20:00  ... \n"
       ]
      },
      {
       "output_type": "stream",
       "stream": "stdout",
       "text": [
        "Running Hydraulic Simulation at time 0 days 14:30:00  ... \n"
       ]
      },
      {
       "output_type": "stream",
       "stream": "stdout",
       "text": [
        "Running Hydraulic Simulation at time 0 days 14:40:00  ... \n"
       ]
      },
      {
       "output_type": "stream",
       "stream": "stdout",
       "text": [
        "Running Hydraulic Simulation at time 0 days 14:50:00  ... \n"
       ]
      },
      {
       "output_type": "stream",
       "stream": "stdout",
       "text": [
        "Running Hydraulic Simulation at time 0 days 15:00:00  ... \n"
       ]
      },
      {
       "output_type": "stream",
       "stream": "stdout",
       "text": [
        "Running Hydraulic Simulation at time 0 days 15:10:00  ... \n"
       ]
      },
      {
       "output_type": "stream",
       "stream": "stdout",
       "text": [
        "Running Hydraulic Simulation at time 0 days 15:20:00  ... \n"
       ]
      },
      {
       "output_type": "stream",
       "stream": "stdout",
       "text": [
        "Running Hydraulic Simulation at time 0 days 15:30:00  ... \n"
       ]
      },
      {
       "output_type": "stream",
       "stream": "stdout",
       "text": [
        "Running Hydraulic Simulation at time 0 days 15:40:00  ... \n"
       ]
      },
      {
       "output_type": "stream",
       "stream": "stdout",
       "text": [
        "Running Hydraulic Simulation at time 0 days 15:50:00  ... \n"
       ]
      },
      {
       "output_type": "stream",
       "stream": "stdout",
       "text": [
        "Running Hydraulic Simulation at time 0 days 16:00:00  ... \n"
       ]
      },
      {
       "output_type": "stream",
       "stream": "stdout",
       "text": [
        "Running Hydraulic Simulation at time 0 days 16:10:00  ... \n"
       ]
      },
      {
       "output_type": "stream",
       "stream": "stdout",
       "text": [
        "Running Hydraulic Simulation at time 0 days 16:20:00  ... \n"
       ]
      },
      {
       "output_type": "stream",
       "stream": "stdout",
       "text": [
        "Running Hydraulic Simulation at time 0 days 16:30:00  ... \n"
       ]
      },
      {
       "output_type": "stream",
       "stream": "stdout",
       "text": [
        "Running Hydraulic Simulation at time 0 days 16:40:00  ... \n"
       ]
      },
      {
       "output_type": "stream",
       "stream": "stdout",
       "text": [
        "Running Hydraulic Simulation at time 0 days 16:50:00  ... \n"
       ]
      },
      {
       "output_type": "stream",
       "stream": "stdout",
       "text": [
        "Running Hydraulic Simulation at time 0 days 17:00:00  ... \n"
       ]
      },
      {
       "output_type": "stream",
       "stream": "stdout",
       "text": [
        "Running Hydraulic Simulation at time 0 days 17:10:00  ... \n"
       ]
      },
      {
       "output_type": "stream",
       "stream": "stdout",
       "text": [
        "Running Hydraulic Simulation at time 0 days 17:20:00  ... \n"
       ]
      },
      {
       "output_type": "stream",
       "stream": "stdout",
       "text": [
        "Running Hydraulic Simulation at time 0 days 17:30:00  ... \n"
       ]
      },
      {
       "output_type": "stream",
       "stream": "stdout",
       "text": [
        "Running Hydraulic Simulation at time 0 days 17:40:00  ... \n"
       ]
      },
      {
       "output_type": "stream",
       "stream": "stdout",
       "text": [
        "Running Hydraulic Simulation at time 0 days 17:50:00  ... \n"
       ]
      },
      {
       "output_type": "stream",
       "stream": "stdout",
       "text": [
        "Running Hydraulic Simulation at time 0 days 18:00:00  ... \n"
       ]
      },
      {
       "output_type": "stream",
       "stream": "stdout",
       "text": [
        "Running Hydraulic Simulation at time 0 days 18:10:00  ... \n"
       ]
      },
      {
       "output_type": "stream",
       "stream": "stdout",
       "text": [
        "Running Hydraulic Simulation at time 0 days 18:20:00  ... \n"
       ]
      },
      {
       "output_type": "stream",
       "stream": "stdout",
       "text": [
        "Running Hydraulic Simulation at time 0 days 18:30:00  ... \n"
       ]
      },
      {
       "output_type": "stream",
       "stream": "stdout",
       "text": [
        "Running Hydraulic Simulation at time 0 days 18:40:00  ... \n"
       ]
      },
      {
       "output_type": "stream",
       "stream": "stdout",
       "text": [
        "Running Hydraulic Simulation at time 0 days 18:50:00  ... \n"
       ]
      },
      {
       "output_type": "stream",
       "stream": "stdout",
       "text": [
        "Running Hydraulic Simulation at time 0 days 19:00:00  ... \n"
       ]
      },
      {
       "output_type": "stream",
       "stream": "stdout",
       "text": [
        "Running Hydraulic Simulation at time 0 days 19:10:00  ... \n"
       ]
      },
      {
       "output_type": "stream",
       "stream": "stdout",
       "text": [
        "Running Hydraulic Simulation at time 0 days 19:20:00  ... \n"
       ]
      },
      {
       "output_type": "stream",
       "stream": "stdout",
       "text": [
        "Running Hydraulic Simulation at time 0 days 19:30:00  ... \n"
       ]
      },
      {
       "output_type": "stream",
       "stream": "stdout",
       "text": [
        "Running Hydraulic Simulation at time 0 days 19:40:00  ... \n"
       ]
      },
      {
       "output_type": "stream",
       "stream": "stdout",
       "text": [
        "Running Hydraulic Simulation at time 0 days 19:50:00  ... \n"
       ]
      },
      {
       "output_type": "stream",
       "stream": "stdout",
       "text": [
        "Running Hydraulic Simulation at time 0 days 20:00:00  ... \n"
       ]
      },
      {
       "output_type": "stream",
       "stream": "stdout",
       "text": [
        "Running Hydraulic Simulation at time 0 days 20:10:00  ... \n"
       ]
      },
      {
       "output_type": "stream",
       "stream": "stdout",
       "text": [
        "Running Hydraulic Simulation at time 0 days 20:20:00  ... \n"
       ]
      },
      {
       "output_type": "stream",
       "stream": "stdout",
       "text": [
        "Running Hydraulic Simulation at time 0 days 20:30:00  ... \n"
       ]
      },
      {
       "output_type": "stream",
       "stream": "stdout",
       "text": [
        "Running Hydraulic Simulation at time 0 days 20:40:00  ... \n"
       ]
      },
      {
       "output_type": "stream",
       "stream": "stdout",
       "text": [
        "Running Hydraulic Simulation at time 0 days 20:50:00  ... \n"
       ]
      },
      {
       "output_type": "stream",
       "stream": "stdout",
       "text": [
        "Running Hydraulic Simulation at time 0 days 21:00:00  ... \n"
       ]
      },
      {
       "output_type": "stream",
       "stream": "stdout",
       "text": [
        "Running Hydraulic Simulation at time 0 days 21:10:00  ... \n"
       ]
      },
      {
       "output_type": "stream",
       "stream": "stdout",
       "text": [
        "Running Hydraulic Simulation at time 0 days 21:20:00  ... \n"
       ]
      },
      {
       "output_type": "stream",
       "stream": "stdout",
       "text": [
        "Running Hydraulic Simulation at time 0 days 21:30:00  ... \n"
       ]
      },
      {
       "output_type": "stream",
       "stream": "stdout",
       "text": [
        "Running Hydraulic Simulation at time 0 days 21:40:00  ... \n"
       ]
      },
      {
       "output_type": "stream",
       "stream": "stdout",
       "text": [
        "Running Hydraulic Simulation at time 0 days 21:50:00  ... \n"
       ]
      },
      {
       "output_type": "stream",
       "stream": "stdout",
       "text": [
        "Running Hydraulic Simulation at time 0 days 22:00:00  ... \n"
       ]
      },
      {
       "output_type": "stream",
       "stream": "stdout",
       "text": [
        "Running Hydraulic Simulation at time 0 days 22:10:00  ... \n"
       ]
      },
      {
       "output_type": "stream",
       "stream": "stdout",
       "text": [
        "Running Hydraulic Simulation at time 0 days 22:20:00  ... \n"
       ]
      },
      {
       "output_type": "stream",
       "stream": "stdout",
       "text": [
        "Running Hydraulic Simulation at time 0 days 22:30:00  ... \n"
       ]
      },
      {
       "output_type": "stream",
       "stream": "stdout",
       "text": [
        "Running Hydraulic Simulation at time 0 days 22:40:00  ... \n"
       ]
      },
      {
       "output_type": "stream",
       "stream": "stdout",
       "text": [
        "Running Hydraulic Simulation at time 0 days 22:50:00  ... \n"
       ]
      },
      {
       "output_type": "stream",
       "stream": "stdout",
       "text": [
        "Running Hydraulic Simulation at time 0 days 23:00:00  ... \n"
       ]
      },
      {
       "output_type": "stream",
       "stream": "stdout",
       "text": [
        "Running Hydraulic Simulation at time 0 days 23:10:00  ... \n"
       ]
      },
      {
       "output_type": "stream",
       "stream": "stdout",
       "text": [
        "Running Hydraulic Simulation at time 0 days 23:20:00  ... \n"
       ]
      },
      {
       "output_type": "stream",
       "stream": "stdout",
       "text": [
        "Running Hydraulic Simulation at time 0 days 23:30:00  ... \n"
       ]
      },
      {
       "output_type": "stream",
       "stream": "stdout",
       "text": [
        "Running Hydraulic Simulation at time 0 days 23:40:00  ... \n"
       ]
      },
      {
       "output_type": "stream",
       "stream": "stdout",
       "text": [
        "Running Hydraulic Simulation at time 0 days 23:50:00  ... \n"
       ]
      },
      {
       "output_type": "stream",
       "stream": "stdout",
       "text": [
        "Running Hydraulic Simulation at time 1 days 00:00:00  ... \n"
       ]
      }
     ],
     "prompt_number": 9
    },
    {
     "cell_type": "heading",
     "level": 4,
     "metadata": {},
     "source": [
      "Plot results"
     ]
    },
    {
     "cell_type": "code",
     "collapsed": false,
     "input": [
      "results = pickle.load(open('demo.pickle', 'rb'))\n",
      "\n",
      "pressure_at_24hr = results.node.loc[(slice(None), pd.Timedelta(hours = 24)), 'pressure']\n",
      "wntr.network.draw_graph(wn, node_attribute=pressure_at_24hr, node_size=20, node_range = [0,100], title='Pressure at 24 hours')\n",
      "\n",
      "plt.figure()\n",
      "for name, node in wn.nodes(wntr.network.Junction):\n",
      "    pressure = results.node.loc[(name, slice(None)), 'pressure']\n",
      "    pressure.plot()\n",
      "plt.title(\"Node Pressure\")\n",
      "    \n",
      "nzd_junctions = wn.query_node_attribute('base_demand', np.greater, 0.01, node_type=wntr.network.Junction).keys()  \n",
      "\n",
      "# FDV, scenario k, time t\n",
      "FDV_kt = results.node.loc[nzd_junctions, 'demand'].sum(level=1)/results.node.loc[nzd_junctions, 'expected_demand'].sum(level=1)\n",
      "# FDV, scenario k, node n, time t\n",
      "FDV_knt = results.node.loc[nzd_junctions, 'demand']/results.node.loc[nzd_junctions, 'expected_demand']\n",
      "\n",
      "plt.figure()\n",
      "FDV_knt = FDV_knt.unstack().T \n",
      "FDV_knt.index = FDV_knt.index.format() \n",
      "FDV_knt.plot(ax=plt.gca(), legend=False)\n",
      "plt.hold(True)\n",
      "FDV_kt.plot(ax=plt.gca(), label='Average', color='k', linewidth=3.0, legend=False)\n",
      "plt.ylim( (-0.05, 1.05) )\n",
      "plt.ylabel('FDV')\n",
      "\n",
      "for tank_name, tank in wn.nodes(wntr.network.Tank):\n",
      "    tank_pressure = results[name].node['pressure'][tank_name]\n",
      "    tank_pressure.index = tank_pressure.index.format() \n",
      "    tank_pressure.plot(ax=plt.gca(),label=tank_name)\n",
      "    plt.hold(True)\n",
      "    \n",
      "plt.ylim(ymin=0, ymax=12)\n",
      "plt.legend()\n",
      "plt.ylabel('Tank Pressure (m)')"
     ],
     "language": "python",
     "metadata": {},
     "outputs": [
      {
       "ename": "NetworkXError",
       "evalue": "Node '283' has no position.",
       "output_type": "pyerr",
       "traceback": [
        "\u001b[1;31m---------------------------------------------------------------------------\u001b[0m\n\u001b[1;31mNetworkXError\u001b[0m                             Traceback (most recent call last)",
        "\u001b[1;32m<ipython-input-10-34145a34d51c>\u001b[0m in \u001b[0;36m<module>\u001b[1;34m()\u001b[0m\n\u001b[0;32m      2\u001b[0m \u001b[1;33m\u001b[0m\u001b[0m\n\u001b[0;32m      3\u001b[0m \u001b[0mpressure_at_24hr\u001b[0m \u001b[1;33m=\u001b[0m \u001b[0mresults\u001b[0m\u001b[1;33m.\u001b[0m\u001b[0mnode\u001b[0m\u001b[1;33m.\u001b[0m\u001b[0mloc\u001b[0m\u001b[1;33m[\u001b[0m\u001b[1;33m(\u001b[0m\u001b[0mslice\u001b[0m\u001b[1;33m(\u001b[0m\u001b[0mNone\u001b[0m\u001b[1;33m)\u001b[0m\u001b[1;33m,\u001b[0m \u001b[0mpd\u001b[0m\u001b[1;33m.\u001b[0m\u001b[0mTimedelta\u001b[0m\u001b[1;33m(\u001b[0m\u001b[0mhours\u001b[0m \u001b[1;33m=\u001b[0m \u001b[1;36m24\u001b[0m\u001b[1;33m)\u001b[0m\u001b[1;33m)\u001b[0m\u001b[1;33m,\u001b[0m \u001b[1;34m'pressure'\u001b[0m\u001b[1;33m]\u001b[0m\u001b[1;33m\u001b[0m\u001b[0m\n\u001b[1;32m----> 4\u001b[1;33m \u001b[0mwntr\u001b[0m\u001b[1;33m.\u001b[0m\u001b[0mnetwork\u001b[0m\u001b[1;33m.\u001b[0m\u001b[0mdraw_graph\u001b[0m\u001b[1;33m(\u001b[0m\u001b[0mwn\u001b[0m\u001b[1;33m,\u001b[0m \u001b[0mnode_attribute\u001b[0m\u001b[1;33m=\u001b[0m\u001b[0mpressure_at_24hr\u001b[0m\u001b[1;33m,\u001b[0m \u001b[0mnode_size\u001b[0m\u001b[1;33m=\u001b[0m\u001b[1;36m20\u001b[0m\u001b[1;33m,\u001b[0m \u001b[0mnode_range\u001b[0m \u001b[1;33m=\u001b[0m \u001b[1;33m[\u001b[0m\u001b[1;36m0\u001b[0m\u001b[1;33m,\u001b[0m\u001b[1;36m100\u001b[0m\u001b[1;33m]\u001b[0m\u001b[1;33m,\u001b[0m \u001b[0mtitle\u001b[0m\u001b[1;33m=\u001b[0m\u001b[1;34m'Pressure at 24 hours'\u001b[0m\u001b[1;33m)\u001b[0m\u001b[1;33m\u001b[0m\u001b[0m\n\u001b[0m\u001b[0;32m      5\u001b[0m \u001b[1;33m\u001b[0m\u001b[0m\n\u001b[0;32m      6\u001b[0m \u001b[0mplt\u001b[0m\u001b[1;33m.\u001b[0m\u001b[0mfigure\u001b[0m\u001b[1;33m(\u001b[0m\u001b[1;33m)\u001b[0m\u001b[1;33m\u001b[0m\u001b[0m\n",
        "\u001b[1;32mc:\\kaklise\\epa-resilience\\resilience\\wntr\\network\\draw_graph.pyc\u001b[0m in \u001b[0;36mdraw_graph\u001b[1;34m(wn, node_attribute, link_attribute, title, node_size, node_range, node_cmap, link_width, link_range, link_cmap, add_colorbar, figsize, dpi, directed)\u001b[0m\n\u001b[0;32m    154\u001b[0m         \u001b[0mplt\u001b[0m\u001b[1;33m.\u001b[0m\u001b[0mtitle\u001b[0m\u001b[1;33m(\u001b[0m\u001b[0mtitle\u001b[0m\u001b[1;33m)\u001b[0m\u001b[1;33m\u001b[0m\u001b[0m\n\u001b[0;32m    155\u001b[0m     nodes = nx.draw_networkx_nodes(G, pos, with_labels=False, \n\u001b[1;32m--> 156\u001b[1;33m               nodelist=nodelist, node_color=nodecolor, node_size=node_size, cmap=node_cmap, vmin = node_range[0], vmax = node_range[1])\n\u001b[0m\u001b[0;32m    157\u001b[0m     edges = nx.draw_networkx_edges(G, pos, \n\u001b[0;32m    158\u001b[0m             edgelist=linklist, edge_color=linkcolor, width=link_width, edge_cmap=link_cmap, edge_vmin = link_range[0], edge_vmax = link_range[1])\n",
        "\u001b[1;32mC:\\Python27\\lib\\site-packages\\networkx\\drawing\\nx_pylab.pyc\u001b[0m in \u001b[0;36mdraw_networkx_nodes\u001b[1;34m(G, pos, nodelist, node_size, node_color, node_shape, alpha, cmap, vmin, vmax, ax, linewidths, label, **kwds)\u001b[0m\n\u001b[0;32m    373\u001b[0m         \u001b[0mxy\u001b[0m \u001b[1;33m=\u001b[0m \u001b[0mnumpy\u001b[0m\u001b[1;33m.\u001b[0m\u001b[0masarray\u001b[0m\u001b[1;33m(\u001b[0m\u001b[1;33m[\u001b[0m\u001b[0mpos\u001b[0m\u001b[1;33m[\u001b[0m\u001b[0mv\u001b[0m\u001b[1;33m]\u001b[0m \u001b[1;32mfor\u001b[0m \u001b[0mv\u001b[0m \u001b[1;32min\u001b[0m \u001b[0mnodelist\u001b[0m\u001b[1;33m]\u001b[0m\u001b[1;33m)\u001b[0m\u001b[1;33m\u001b[0m\u001b[0m\n\u001b[0;32m    374\u001b[0m     \u001b[1;32mexcept\u001b[0m \u001b[0mKeyError\u001b[0m \u001b[1;32mas\u001b[0m \u001b[0me\u001b[0m\u001b[1;33m:\u001b[0m\u001b[1;33m\u001b[0m\u001b[0m\n\u001b[1;32m--> 375\u001b[1;33m         \u001b[1;32mraise\u001b[0m \u001b[0mnx\u001b[0m\u001b[1;33m.\u001b[0m\u001b[0mNetworkXError\u001b[0m\u001b[1;33m(\u001b[0m\u001b[1;34m'Node %s has no position.'\u001b[0m\u001b[1;33m%\u001b[0m\u001b[0me\u001b[0m\u001b[1;33m)\u001b[0m\u001b[1;33m\u001b[0m\u001b[0m\n\u001b[0m\u001b[0;32m    376\u001b[0m     \u001b[1;32mexcept\u001b[0m \u001b[0mValueError\u001b[0m\u001b[1;33m:\u001b[0m\u001b[1;33m\u001b[0m\u001b[0m\n\u001b[0;32m    377\u001b[0m         \u001b[1;32mraise\u001b[0m \u001b[0mnx\u001b[0m\u001b[1;33m.\u001b[0m\u001b[0mNetworkXError\u001b[0m\u001b[1;33m(\u001b[0m\u001b[1;34m'Bad value in node positions.'\u001b[0m\u001b[1;33m)\u001b[0m\u001b[1;33m\u001b[0m\u001b[0m\n",
        "\u001b[1;31mNetworkXError\u001b[0m: Node '283' has no position."
       ]
      },
      {
       "metadata": {},
       "output_type": "display_data",
       "png": "[encoded data removed]",
       "text": [
        "<matplotlib.figure.Figure at 0x14d5bbf0>"
       ]
      }
     ],
     "prompt_number": 10
    },
    {
     "cell_type": "code",
     "collapsed": false,
     "input": [],
     "language": "python",
     "metadata": {},
     "outputs": []
    }
   ],
   "metadata": {}
  }
 ]
}