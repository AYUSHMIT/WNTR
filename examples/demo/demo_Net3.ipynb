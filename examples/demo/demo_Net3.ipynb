{
 "metadata": {
  "name": "",
  "signature": "sha256:0460b9318f1c32e8352a7459495d350f70333e379c51971d757f7c93b1d56623"
 },
 "nbformat": 3,
 "nbformat_minor": 0,
 "worksheets": [
  {
   "cells": [
    {
     "cell_type": "heading",
     "level": 1,
     "metadata": {},
     "source": [
      "WNTR Demo: Earthquake Scenario"
     ]
    },
    {
     "cell_type": "heading",
     "level": 4,
     "metadata": {},
     "source": [
      "Import python packages, including WNTR"
     ]
    },
    {
     "cell_type": "code",
     "collapsed": false,
     "input": [
      "% matplotlib inline\n",
      "\n",
      "import numpy as np\n",
      "import pandas as pd\n",
      "import pickle\n",
      "import matplotlib.pylab as plt\n",
      "import wntr\n",
      "\n",
      "np.random.seed(12345)\n",
      "demo = True"
     ],
     "language": "python",
     "metadata": {},
     "outputs": []
    },
    {
     "cell_type": "heading",
     "level": 4,
     "metadata": {},
     "source": [
      "Create a water network model using an EPANET inp file"
     ]
    },
    {
     "cell_type": "code",
     "collapsed": false,
     "input": [
      "inp_file = '../networks/Net3.inp'\n",
      "wn = wntr.network.WaterNetworkModel(inp_file)"
     ],
     "language": "python",
     "metadata": {},
     "outputs": []
    },
    {
     "cell_type": "heading",
     "level": 4,
     "metadata": {},
     "source": [
      "Define earthquake epicenter, magnitude, and depth"
     ]
    },
    {
     "cell_type": "code",
     "collapsed": false,
     "input": [
      "epicenter = (32,15) # x,y location\n",
      "magnitude = 5 # Richter scale\n",
      "depth = 10000 # m, shallow depth"
     ],
     "language": "python",
     "metadata": {},
     "outputs": []
    },
    {
     "cell_type": "heading",
     "level": 4,
     "metadata": {},
     "source": [
      "Plot location of eipcenter on the network"
     ]
    },
    {
     "cell_type": "code",
     "collapsed": false,
     "input": [
      "wntr.network.draw_graph(wn, node_size=0, figsize=(10,8), dpi=100)\n",
      "plt.hold('True')\n",
      "plt.scatter(epicenter[0], epicenter[1], s=1000, c='r', marker='*', zorder=2)"
     ],
     "language": "python",
     "metadata": {},
     "outputs": []
    },
    {
     "cell_type": "heading",
     "level": 4,
     "metadata": {},
     "source": [
      "Generate the earthquake scenario"
     ]
    },
    {
     "cell_type": "code",
     "collapsed": false,
     "input": [
      "#This scenario assumes uniform pipe and soil type throughout the network.  These parameters can be set for individual pipes\n",
      "#PGA = 0.001 g (0.01 m/s2) \u2013 perceptible by people\n",
      "#PGA = 0.02  g (0.2  m/s2) \u2013 people lose their balance\n",
      "#PGA = 0.50  g (5 m/s2) \u2013 very high; well-designed buildings can survive if the duration is short\n",
      "#Repair rate of 1/km (0.001/m) has been suggested as an upper bound\n",
      "\n",
      "earthquake = wntr.scenario.Earthquake(epicenter, magnitude, depth)\n",
      "earthquake.generate(wn, coordinate_scale=1000, correct_length=False)\n",
      "\n",
      "print \"Min, Max, Average PGA: \" + str(np.round(np.min(earthquake.pga.values()),2)) + \", \" + str(np.round(np.max(earthquake.pga.values()),2)) + \", \" + str(np.round(np.mean(earthquake.pga.values()),2)) + \" m/s2\"\n",
      "print \"Min, Max, Average repair rate: \" + str(np.round(np.min(earthquake.repair_rate.values()),5)) + \", \" + str(np.round(np.max(earthquake.repair_rate.values()),5)) + \", \" + str(np.round(np.mean(earthquake.repair_rate.values()),5)) + \" per m\"\n",
      "print \"Number of pipe failures: \" + str(len(earthquake.pipes_to_leak))"
     ],
     "language": "python",
     "metadata": {},
     "outputs": []
    },
    {
     "cell_type": "heading",
     "level": 4,
     "metadata": {},
     "source": [
      "Plot peak ground acceleration"
     ]
    },
    {
     "cell_type": "code",
     "collapsed": false,
     "input": [
      "wntr.network.draw_graph(wn, link_attribute=earthquake.pga, node_size=0, link_width=1.5, title='Peak ground acceleration', figsize=(12,8), dpi=100)"
     ],
     "language": "python",
     "metadata": {},
     "outputs": []
    },
    {
     "cell_type": "heading",
     "level": 4,
     "metadata": {},
     "source": [
      "Plot repair rate (# of repairs needed per m)"
     ]
    },
    {
     "cell_type": "code",
     "collapsed": false,
     "input": [
      "wntr.network.draw_graph(wn, link_attribute=earthquake.repair_rate, node_size=0, link_width=1.5, title='Repair rate', figsize=(12,8), dpi=100)"
     ],
     "language": "python",
     "metadata": {},
     "outputs": []
    },
    {
     "cell_type": "heading",
     "level": 4,
     "metadata": {},
     "source": [
      "Plot location of pipes with leaks"
     ]
    },
    {
     "cell_type": "code",
     "collapsed": false,
     "input": [
      "wntr.network.draw_graph(wn, link_attribute=earthquake.probability_of_leak, node_size=0, link_width=1.5, title='Probability of pipe failure', figsize=(12,8), dpi=100)\n",
      "\n",
      "gray_red_colormap = wntr.network.custom_colormap(2, colors = ['0.75','red'])\n",
      "wntr.network.draw_graph(wn, link_attribute=earthquake.pipe_status, node_size=0, link_width=1.5, link_cmap=gray_red_colormap, link_range=[0,1], title='Failed pipes (in red)', add_colorbar=False, figsize=(10,8), dpi=100)"
     ],
     "language": "python",
     "metadata": {},
     "outputs": []
    },
    {
     "cell_type": "heading",
     "level": 4,
     "metadata": {},
     "source": [
      "Simulate hydraulics without repair"
     ]
    },
    {
     "cell_type": "code",
     "collapsed": false,
     "input": [
      "# The simulation uses pressure driven hydraulics and leak models to account for loss.\n",
      "wn.set_nominal_pressures(constant_nominal_pressure = 15) \n",
      "wn.time_options['DURATION'] = 24*3600\n",
      "wn.time_options['HYDRAULIC TIMESTEP'] = 600\n",
      "wn.time_options['REPORT TIMESTEP'] = 600\n",
      "sim = wntr.sim.PyomoSimulator(wn,'PRESSURE DRIVEN')\n",
      "\n",
      "time_of_failure = 5 # time of failure\n",
      "duration_of_failure = 20 # Select duration of failure     \n",
      "leak_diameter = {}\n",
      "for pipe_name in earthquake.pipes_to_leak:\n",
      "    # Select leak diameter, uniform dist, between 0.01 and pipe diameter \n",
      "    pipe_diameter = wn.get_link(pipe_name).diameter\n",
      "    leak_diameter[pipe_name] = np.round(np.random.uniform(0.01,0.5*pipe_diameter,1), 2)[0] \n",
      "    # Add pipe leak to the simulator\n",
      "    sim.add_leak(leak_name = \"Leak\"+pipe_name, pipe_name = pipe_name, leak_diameter = leak_diameter[pipe_name], \n",
      "                 start_time = pd.Timedelta(time_of_failure, unit='h'), fix_time = pd.Timedelta(time_of_failure + duration_of_failure, unit='h'))\n",
      "\n",
      "if demo:\n",
      "    results = pickle.load(open('demo_Net3.pickle', 'rb'))\n",
      "else:\n",
      "    results = sim.run_sim()\n",
      "    pickle.dump(results, open('demo_Net3.pickle', 'wb'))"
     ],
     "language": "python",
     "metadata": {},
     "outputs": []
    },
    {
     "cell_type": "heading",
     "level": 4,
     "metadata": {},
     "source": [
      "Define top leaks for repair"
     ]
    },
    {
     "cell_type": "code",
     "collapsed": false,
     "input": [
      "# Plot leak demand\n",
      "plt.figure(figsize=(12,5), dpi=100)\n",
      "leaked_demand = results.node.loc[results.node['type'] == 'leak']['demand']\n",
      "leaked_demand = leaked_demand.unstack().T \n",
      "leaked_demand.index = leaked_demand.index.format() \n",
      "leaked_demand.plot(ax=plt.gca(), legend=False)\n",
      "plt.ylabel('Leak demand (m3/s)')\n",
      "\n",
      "# Rank leaked demand\n",
      "leaked_sum = leaked_demand.sum()\n",
      "leaked_sum.sort(ascending=False, inplace=True)\n",
      "\n",
      "# Select top 4\n",
      "pipes_to_fix = leaked_sum[0:4]\n",
      "print pipes_to_fix"
     ],
     "language": "python",
     "metadata": {},
     "outputs": []
    },
    {
     "cell_type": "heading",
     "level": 4,
     "metadata": {},
     "source": [
      "Simulate hydraulics with repair"
     ]
    },
    {
     "cell_type": "code",
     "collapsed": false,
     "input": [
      "sim = wntr.sim.PyomoSimulator(wn,'PRESSURE DRIVEN')\n",
      "\n",
      "time_of_failure = 5 # time of failure \n",
      "for pipe_name in earthquake.pipes_to_leak:\n",
      "    if \"Leak\"+pipe_name in pipes_to_fix.index:\n",
      "        duration_of_failure = time_of_failure+8\n",
      "    else:\n",
      "        duration_of_failure = 20\n",
      "    # Add pipe leak to the simulator\n",
      "    sim.add_leak(leak_name = \"Leak\"+pipe_name, pipe_name = pipe_name, leak_diameter = leak_diameter[pipe_name], \n",
      "                 start_time = pd.Timedelta(time_of_failure, unit='h'), fix_time = pd.Timedelta(time_of_failure + duration_of_failure, unit='h'))\n",
      "        \n",
      "if demo:\n",
      "    results_repair = pickle.load(open('demo_Net3_repair.pickle', 'rb'))\n",
      "else:\n",
      "    results_repair = sim.run_sim()\n",
      "    pickle.dump(results_repair, open('demo_Net3_repair.pickle', 'wb'))"
     ],
     "language": "python",
     "metadata": {},
     "outputs": []
    },
    {
     "cell_type": "heading",
     "level": 4,
     "metadata": {},
     "source": [
      "Compare results"
     ]
    },
    {
     "cell_type": "code",
     "collapsed": false,
     "input": [
      "wn_nodes = [node_name for node_name, node in wn.nodes(wntr.network.Junction)]\n",
      "\n",
      "pressure_at_24hr = results.node.loc[(wn_nodes, pd.Timedelta(hours = 24)), 'pressure']\n",
      "wntr.network.draw_graph(wn, node_attribute=pressure_at_24hr, node_size=20, node_range = [0,90], title='Pressure at 24 hours, without repair', figsize=(12,8), dpi=100)\n",
      "\n",
      "pressure_at_24hr = results_repair.node.loc[(wn_nodes, pd.Timedelta(hours = 24)), 'pressure']\n",
      "wntr.network.draw_graph(wn, node_attribute=pressure_at_24hr, node_size=20, node_range = [0,90], title='Pressure at 24 hours, with repair', figsize=(12,8), dpi=100)\n",
      "\n",
      "# Node pressure\n",
      "plt.figure(figsize=(30,8), dpi=100)\n",
      "plt.subplot(1,2,1)\n",
      "for name, node in wn.nodes(wntr.network.Junction):\n",
      "    pressure = results.node['pressure'][name] \n",
      "    pressure.index = pressure.index.format() \n",
      "    pressure.plot()\n",
      "    plt.hold(True)\n",
      "plt.ylim(ymin=0)\n",
      "plt.ylabel('Node Pressure (m)')\n",
      "plt.title('Without repair')\n",
      "\n",
      "plt.subplot(1,2,2)\n",
      "for name, node in wn.nodes(wntr.network.Junction):\n",
      "    pressure = results_repair.node['pressure'][name] \n",
      "    pressure.index = pressure.index.format() \n",
      "    pressure.plot()\n",
      "    plt.hold(True)\n",
      "plt.ylim(ymin=0)\n",
      "plt.ylabel('Node Pressure (m)')\n",
      "plt.title('With repair')\n",
      "\n",
      "# Tank pressure\n",
      "plt.figure(figsize=(30,8), dpi=100)\n",
      "plt.subplot(1,2,1)\n",
      "for name, tank in wn.nodes(wntr.network.Tank):\n",
      "    pressure = results.node['pressure'][name]\n",
      "    pressure.index = pressure.index.format() \n",
      "    pressure.plot(label=name)\n",
      "    plt.hold(True)\n",
      "plt.ylim(ymin=0, ymax=12)\n",
      "plt.ylabel('Tank Pressure (m)')\n",
      "plt.legend()\n",
      "\n",
      "plt.subplot(1,2,2)\n",
      "for name, tank in wn.nodes(wntr.network.Tank):\n",
      "    pressure = results_repair.node['pressure'][name]\n",
      "    pressure.index = pressure.index.format() \n",
      "    pressure.plot(label=name)\n",
      "    plt.hold(True)\n",
      "plt.ylim(ymin=0, ymax=12)\n",
      "plt.ylabel('Tank Pressure (m)')\n",
      "plt.legend()\n",
      "\n",
      "# Fraction delivered volume\n",
      "nzd_junctions = wn.query_node_attribute('base_demand', np.greater, 0, node_type=wntr.network.Junction).keys()  \n",
      "plt.figure(figsize=(30,8), dpi=100)\n",
      "plt.subplot(1,2,1)\n",
      "FDV_knt = results.node.loc[nzd_junctions, 'demand']/results.node.loc[nzd_junctions, 'expected_demand'] # FDV, scenario k, node n, time t \n",
      "FDV_knt = FDV_knt.unstack().T \n",
      "FDV_knt.index = FDV_knt.index.format() \n",
      "FDV_knt.plot(ax=plt.gca(), legend=False)\n",
      "plt.ylim(ymin=-0.05, ymax=1.05)\n",
      "plt.ylabel('FDV')\n",
      "\n",
      "plt.subplot(1,2,2)\n",
      "FDV_knt = results_repair.node.loc[nzd_junctions, 'demand']/results_repair.node.loc[nzd_junctions, 'expected_demand'] # FDV, scenario k, node n, time t \n",
      "FDV_knt = FDV_knt.unstack().T \n",
      "FDV_knt.index = FDV_knt.index.format() \n",
      "FDV_knt.plot(ax=plt.gca(), legend=False)\n",
      "plt.ylim(ymin=-0.05, ymax=1.05)\n",
      "plt.ylabel('FDV')\n",
      "\n",
      "plt.figure(figsize=(30,8), dpi=100)\n",
      "plt.subplot(1,2,1)\n",
      "FDV_kt = results.node.loc[nzd_junctions, 'demand'].sum(level=1)/results.node.loc[nzd_junctions, 'expected_demand'].sum(level=1) # FDV, scenario k, time t\n",
      "FDV_kt.index = FDV_kt.index.format() \n",
      "FDV_kt.plot(label='Average', color='k', linewidth=3.0, legend=False)\n",
      "plt.ylim(ymin=-0.05, ymax=1.05)\n",
      "plt.ylabel('Average FDV')\n",
      "\n",
      "plt.subplot(1,2,2)\n",
      "FDV_kt = results_repair.node.loc[nzd_junctions, 'demand'].sum(level=1)/results_repair.node.loc[nzd_junctions, 'expected_demand'].sum(level=1) # FDV, scenario k, time t\n",
      "FDV_kt.index = FDV_kt.index.format() \n",
      "FDV_kt.plot(label='Average', color='k', linewidth=3.0, legend=False)\n",
      "plt.ylim(ymin=-0.05, ymax=1.05)\n",
      "plt.ylabel('Averaege FDV')"
     ],
     "language": "python",
     "metadata": {},
     "outputs": []
    },
    {
     "cell_type": "code",
     "collapsed": false,
     "input": [],
     "language": "python",
     "metadata": {},
     "outputs": []
    }
   ],
   "metadata": {}
  }
 ]
}