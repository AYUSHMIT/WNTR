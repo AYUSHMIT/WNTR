{
 "metadata": {
  "name": "",
  "signature": "sha256:4fa71166c7fb9fdd3fea3026c51b0376f8908dcf3d36b0c31711a596150d8bd7"
 },
 "nbformat": 3,
 "nbformat_minor": 0,
 "worksheets": [
  {
   "cells": [
    {
     "cell_type": "heading",
     "level": 1,
     "metadata": {},
     "source": [
      "WNTR Earthquake Demo"
     ]
    },
    {
     "cell_type": "heading",
     "level": 4,
     "metadata": {},
     "source": [
      "Import python packages, including WNTR"
     ]
    },
    {
     "cell_type": "code",
     "collapsed": false,
     "input": [
      "% matplotlib inline\n",
      "\n",
      "import numpy as np\n",
      "import pandas as pd\n",
      "import pickle\n",
      "import matplotlib.pylab as plt\n",
      "from scipy.stats import expon\n",
      "import wntr\n",
      "\n",
      "np.random.seed(12345)\n",
      "demo = False"
     ],
     "language": "python",
     "metadata": {},
     "outputs": []
    },
    {
     "cell_type": "heading",
     "level": 4,
     "metadata": {},
     "source": [
      "Select a water network model and define earthquake characteristics"
     ]
    },
    {
     "cell_type": "code",
     "collapsed": false,
     "input": [
      "# Select a network (Net3 or Net6)\n",
      "network = 'Net3'\n",
      "\n",
      "# Load the network and define the earthquake epicenter, magnitude, and depth\n",
      "if network is 'Net3':\n",
      "    inp_file = '../networks/Net3.inp'\n",
      "    wn = wntr.network.WaterNetworkModel(inp_file)\n",
      "    wn.scale_node_coordinates(1000)\n",
      "    epicenter = (32000,15000) # x,y location\n",
      "    magnitude = 6.5 # Richter scale\n",
      "    depth = 10000 # m, shallow depth\n",
      "elif network is 'Net6':\n",
      "    inp_file = '../networks/Net6_skel16.inp'\n",
      "    wn = wntr.network.WaterNetworkModel(inp_file)\n",
      "    wn.scale_node_coordinates(200)\n",
      "    epicenter = (42000,22000) # x,y location\n",
      "    magnitude = 6.5 # Richter scale\n",
      "    depth = 10000 # m, shallow depth\n",
      "else:\n",
      "    exit()"
     ],
     "language": "python",
     "metadata": {},
     "outputs": []
    },
    {
     "cell_type": "heading",
     "level": 4,
     "metadata": {},
     "source": [
      "Plot location of eipcenter on the network"
     ]
    },
    {
     "cell_type": "code",
     "collapsed": false,
     "input": [
      "wntr.network.draw_graph(wn, node_size=0, figsize=(10,8), dpi=100)\n",
      "plt.hold('True')\n",
      "plt.scatter(epicenter[0], epicenter[1], s=1000, c='r', marker='*', zorder=2)"
     ],
     "language": "python",
     "metadata": {},
     "outputs": []
    },
    {
     "cell_type": "heading",
     "level": 4,
     "metadata": {},
     "source": [
      "Generate the earthquake scenario"
     ]
    },
    {
     "cell_type": "code",
     "collapsed": false,
     "input": [
      "#This scenario assumes uniform pipe and soil type throughout the network.  These parameters can be set for individual pipes\n",
      "#PGA = 0.001 g (0.01 m/s2) \u2013 perceptible by people\n",
      "#PGA = 0.02  g (0.2  m/s2) \u2013 people lose their balance\n",
      "#PGA = 0.50  g (5 m/s2) \u2013 very high; well-designed buildings can survive if the duration is short\n",
      "#Repair rate of 1/km (0.001/m) has been suggested as an upper bound\n",
      "\n",
      "earthquake = wntr.scenario.Earthquake(epicenter, magnitude, depth)\n",
      "\n",
      "R = earthquake.distance_to_epicenter(wn, element_type=wntr.network.Pipe)\n",
      "pga = earthquake.pga_attenuation_model(R)  \n",
      "pgv = earthquake.pgv_attenuation_model(R)\n",
      "RR = earthquake.repair_rate_model(pgv)\n",
      "L = pd.Series(wn.query_link_attribute('length', link_type = wntr.network.Pipe))\n",
      "    \n",
      "pipe_FC = wntr.scenario.FragilityCurve()\n",
      "pipe_FC.add_state('Minor leak', 1, {'Default': expon(scale=0.2)})\n",
      "pipe_FC.add_state('Major leak', 2, {'Default': expon()})\n",
      "\n",
      "plt.figure()\n",
      "x = np.linspace(0,1,100)\n",
      "for name, state in pipe_FC.states():\n",
      "    dist=state.distribution['Default']\n",
      "    plt.plot(x,dist.cdf(x), label=name)\n",
      "plt.ylim((0,1))\n",
      "plt.xlabel('Rate of repair * pipe length')\n",
      "plt.ylabel('Probability of exceeding a damage state')\n",
      "plt.legend()\n",
      "\n",
      "pipe_Pr = pipe_FC.cdf_probability(RR*L)\n",
      "pipe_damage_state = pipe_FC.sample_damage_state(pipe_Pr)\n",
      "\n",
      "pipe_damage_state_map = pipe_FC.get_priority_map()\n",
      "pipe_damage_val = pipe_damage_state.map(pipe_damage_state_map)\n",
      "\n",
      "print \"Min, Max, Average PGA: \" + str(np.round(pga.min(),2)) + \", \" + str(np.round(pga.max(),2)) + \", \" + str(np.round(pga.mean(),2)) + \" g\"\n",
      "print \"Min, Max, Average PGV: \" + str(np.round(pgv.min(),2)) + \", \" + str(np.round(pgv.max(),2)) + \", \" + str(np.round(pgv.mean(),2)) + \" m/s\"\n",
      "print \"Min, Max, Average repair rate: \" + str(np.round(RR.min(),5)) + \", \" + str(np.round(RR.max(),5)) + \", \" + str(np.round(RR.mean(),5)) + \" per m\"\n",
      "print \"Min, Max, Average repair rate*pipe length: \" + str(np.round((RR*L).min(),5)) + \", \" + str(np.round((RR*L).max(),5)) + \", \" + str(np.round((RR*L).mean(),5))\n",
      "print \"Number of pipe failures: \" + str(sum(pipe_damage_val > 0))"
     ],
     "language": "python",
     "metadata": {},
     "outputs": []
    },
    {
     "cell_type": "heading",
     "level": 4,
     "metadata": {},
     "source": [
      "Plot peak ground acceleration"
     ]
    },
    {
     "cell_type": "code",
     "collapsed": false,
     "input": [
      "wntr.network.draw_graph(wn, link_attribute=R, node_size=20, title='Distance to Epicenter', figsize=(12,8), dpi=100)\n",
      "\n",
      "wntr.network.draw_graph(wn, link_attribute=pga, node_size=0, link_width=1.5, title='Peak ground acceleration', figsize=(12,8), dpi=100)\n",
      "\n",
      "wntr.network.draw_graph(wn, link_attribute=pgv, node_size=0, link_width=1.5, title='Peak ground velocity', figsize=(12,8), dpi=100)"
     ],
     "language": "python",
     "metadata": {},
     "outputs": []
    },
    {
     "cell_type": "heading",
     "level": 4,
     "metadata": {},
     "source": [
      "Plot repair rate (# of repairs needed per m)"
     ]
    },
    {
     "cell_type": "code",
     "collapsed": false,
     "input": [
      "wntr.network.draw_graph(wn, link_attribute=RR, node_size=0, link_width=1.5, title='Repair rate', figsize=(12,8), dpi=100)\n",
      "\n",
      "wntr.network.draw_graph(wn, link_attribute=(RR*L), node_size=0, link_width=1.5, title='Repair rate*Pipe length', figsize=(12,8), dpi=100)"
     ],
     "language": "python",
     "metadata": {},
     "outputs": []
    },
    {
     "cell_type": "heading",
     "level": 4,
     "metadata": {},
     "source": [
      "Plot location of pipes with leaks"
     ]
    },
    {
     "cell_type": "code",
     "collapsed": false,
     "input": [
      "wntr.network.draw_graph(wn, link_attribute=pipe_Pr['Minor leak'], node_size=0, link_width=1.5, title='Probability of pipe failure', figsize=(12,8), dpi=100)\n",
      "\n",
      "gray_red_colormap = wntr.network.custom_colormap(3, colors = ['0.75','blue','red'])\n",
      "wntr.network.draw_graph(wn, link_attribute=pipe_damage_val, node_size=0, link_width=1.5, link_cmap=gray_red_colormap, title='Damage States (Blue = Minor, Red = Major)', add_colorbar=False, figsize=(10,8), dpi=100)"
     ],
     "language": "python",
     "metadata": {},
     "outputs": []
    },
    {
     "cell_type": "heading",
     "level": 4,
     "metadata": {},
     "source": [
      "Simulate hydraulics without repair"
     ]
    },
    {
     "cell_type": "code",
     "collapsed": false,
     "input": [
      "# The simulation uses pressure driven hydraulics and leak models to account for loss.\n",
      "for name, node in wn.nodes():\n",
      "    node.nominal_pressure = 15\n",
      "wn.options.duration = 24*3600\n",
      "wn.options.hydraulic_timestep = 3600\n",
      "wn.options.report_timestep = 3600\n",
      "\n",
      "time_of_failure = 5 # time of failure\n",
      "duration_of_failure = 20 # Select duration of failure    \n",
      "for pipe_name, damage_state in pipe_damage_state.iteritems():\n",
      "    pipe_diameter = wn.get_link(pipe_name).diameter\n",
      "    if damage_state is not None:\n",
      "        # Select leak diameter, uniform dist\n",
      "        if damage_state == 'Major leak':\n",
      "            leak_diameter = np.round(np.random.uniform(0.15,0.3*pipe_diameter,1), 2)[0]\n",
      "            leak_diameter = np.amin([leak_diameter,0.15])\n",
      "            leak_area = 3.14159/4.0*leak_diameter**2\n",
      "        elif damage_state == 'Minor leak':\n",
      "            leak_diameter = np.round(np.random.uniform(0,0.15*pipe_diameter,1), 2)[0]\n",
      "            leak_diameter = np.amin([leak_diameter,0.15])\n",
      "            leak_area = 3.14159/4.0*leak_diameter**2\n",
      "        else:\n",
      "            leak_area = 0\n",
      "        # Add pipe leak to the network\n",
      "        wn.split_pipe_with_junction(pipe_name,pipe_name+'A',pipe_name+'B','Leak'+pipe_name)\n",
      "        start_time = time_of_failure*3600\n",
      "        end_time = (time_of_failure+duration_of_failure)*3600\n",
      "        n = wn.get_node('Leak'+pipe_name)\n",
      "        n.add_leak(wn, area=leak_area, start_time=start_time, end_time=end_time)\n",
      "    \n",
      "sim = wntr.sim.ScipySimulator(wn, pressure_driven=True)\n",
      "\n",
      "if demo:\n",
      "    results = pickle.load(open('demo.pickle', 'rb'))\n",
      "else:\n",
      "    results = sim.run_sim(solver_options={'MAXITER':300,'BACKTRACKING':True})\n",
      "    pickle.dump(results, open('demo.pickle', 'wb'))"
     ],
     "language": "python",
     "metadata": {},
     "outputs": []
    },
    {
     "cell_type": "heading",
     "level": 4,
     "metadata": {},
     "source": [
      "Define top leaks for repair\u00b6"
     ]
    },
    {
     "cell_type": "code",
     "collapsed": false,
     "input": [
      "# Rank leaked demand\n",
      "leaked_demand = results.node.loc['leak_demand']\n",
      "leaked_sum = leaked_demand.sum()\n",
      "leaked_sum.sort(ascending=False, inplace=True)\n",
      "\n",
      "# Plot leak demand\n",
      "plt.figure(figsize=(12,5), dpi=100)\n",
      "leaked_demand.index = leaked_demand.index/3600\n",
      "leaked_demand.plot(ax=plt.gca(), legend=False)\n",
      "plt.ylabel('Leak demand (m3/s)')\n",
      "plt.xlabel('Time (hr)')\n",
      "\n",
      "# Select top pipes to fix\n",
      "if network is 'Net3':\n",
      "    number_of_pipes_to_repair = 4\n",
      "elif network is 'Net6':\n",
      "    number_of_pipes_to_repair = 10\n",
      "else:\n",
      "    exit()\n",
      "pipes_to_fix = leaked_sum[0:number_of_pipes_to_repair]\n",
      "print pipes_to_fix"
     ],
     "language": "python",
     "metadata": {},
     "outputs": []
    },
    {
     "cell_type": "heading",
     "level": 4,
     "metadata": {},
     "source": [
      "Simulate hydraulics with repair"
     ]
    },
    {
     "cell_type": "code",
     "collapsed": false,
     "input": [
      "wn.reset_initial_values()\n",
      "\n",
      "duration_of_failure = 10\n",
      "end_time = (time_of_failure+duration_of_failure)*3600\n",
      "for leak_name in pipes_to_fix.index:\n",
      "    leak = wn.get_node(leak_name)\n",
      "    leak.set_leak_end_time(wn,t=end_time)\n",
      "\n",
      "if demo:\n",
      "    results_repair = pickle.load(open('demo_repair.pickle', 'rb'))\n",
      "else:\n",
      "    results_repair = sim.run_sim(solver_options={'MAXITER':300,'BACKTRACKING':True})\n",
      "    pickle.dump(results_repair, open('demo_repair.pickle', 'wb'))"
     ],
     "language": "python",
     "metadata": {},
     "outputs": []
    },
    {
     "cell_type": "heading",
     "level": 4,
     "metadata": {},
     "source": [
      "Compare results"
     ]
    },
    {
     "cell_type": "code",
     "collapsed": false,
     "input": [
      "wn_nodes = [node_name for node_name, node in wn.junctions()]\n",
      "\n",
      "pressure_at_24hr = results.node.loc['pressure',24*3600,wn_nodes]\n",
      "wntr.network.draw_graph(wn, node_attribute=pressure_at_24hr, node_size=20, node_range = [0,90], title='Pressure at 24 hours, without repair', figsize=(12,8), dpi=100)\n",
      "\n",
      "pressure_at_24hr = results_repair.node.loc['pressure',24*3600,wn_nodes]\n",
      "wntr.network.draw_graph(wn, node_attribute=pressure_at_24hr, node_size=20, node_range = [0,90], title='Pressure at 24 hours, with repair', figsize=(12,8), dpi=100)\n",
      "\n",
      "# Node pressure\n",
      "plt.figure(figsize=(30,8), dpi=100)\n",
      "plt.subplot(1,2,1)\n",
      "for name, node in wn.junctions():\n",
      "    pressure = results.node['pressure',:,name] \n",
      "    pressure.index = pressure.index/3600\n",
      "    pressure.plot()\n",
      "    plt.hold(True)\n",
      "plt.ylim(ymin=0)\n",
      "plt.ylabel('Node Pressure (m)', fontsize=20)\n",
      "plt.title('Without repair', fontsize=20)\n",
      "\n",
      "plt.subplot(1,2,2)\n",
      "for name, node in wn.junctions():\n",
      "    pressure = results_repair.node['pressure',:,name] \n",
      "    pressure.index = pressure.index/3600\n",
      "    pressure.plot()\n",
      "    plt.hold(True)\n",
      "plt.ylim(ymin=0)\n",
      "plt.ylabel('Node Pressure (m)', fontsize=20)\n",
      "plt.title('With repair', fontsize=20)\n",
      "\n",
      "# Tank pressure\n",
      "plt.figure(figsize=(30,8), dpi=100)\n",
      "plt.subplot(1,2,1)\n",
      "for name, tank in wn.tanks():\n",
      "    pressure = results.node['pressure',:,name]\n",
      "    pressure.index = pressure.index/3600\n",
      "    pressure.plot(label=name)\n",
      "    plt.hold(True)\n",
      "plt.ylim(ymin=0, ymax=12)\n",
      "plt.ylabel('Tank Pressure (m)', fontsize=20)\n",
      "if network is 'Net3':\n",
      "    plt.legend()\n",
      "\n",
      "plt.subplot(1,2,2)\n",
      "for name, tank in wn.tanks():\n",
      "    pressure = results_repair.node['pressure',:,name]\n",
      "    pressure.index = pressure.index/3600\n",
      "    pressure.plot(label=name)\n",
      "    plt.hold(True)\n",
      "plt.ylim(ymin=0, ymax=12)\n",
      "plt.ylabel('Tank Pressure (m)', fontsize=20)\n",
      "if network is 'Net3':\n",
      "    plt.legend()\n",
      "\n",
      "# Fraction delivered volume\n",
      "nzd_junctions = wn.query_node_attribute('base_demand', np.greater, 0, node_type=wntr.network.Junction).keys()  \n",
      "node_results = results.node.loc[:,:,nzd_junctions]\n",
      "node_results_repair = results_repair.node.loc[:,:,nzd_junctions]\n",
      "\n",
      "plt.figure(figsize=(30,8), dpi=100)\n",
      "plt.subplot(1,2,1)\n",
      "FDV_knt = wntr.metrics.fdv(node_results) # FDV, scenario k, node n, time t \n",
      "FDV_knt.index = FDV_knt.index/3600\n",
      "FDV_knt.plot(ax=plt.gca(), legend=False)\n",
      "plt.ylim(ymin=-0.05, ymax=1.05)\n",
      "plt.ylabel('FDV for each node', fontsize=20)\n",
      "\n",
      "plt.subplot(1,2,2)\n",
      "FDV_knt_wrepair = wntr.metrics.fdv(node_results_repair) # FDV, scenario k, node n, time t \n",
      "FDV_knt_wrepair.index = FDV_knt_wrepair.index/3600\n",
      "FDV_knt_wrepair.plot(ax=plt.gca(), legend=False)\n",
      "plt.ylim(ymin=-0.05, ymax=1.05)\n",
      "plt.ylabel('FDV for each node', fontsize=20)\n",
      "\n",
      "plt.figure(figsize=(30,8), dpi=100)\n",
      "plt.subplot(1,2,1)\n",
      "FDV_kt = wntr.metrics.fdv(node_results, average_nodes=True) # FDV, scenario k, time t\n",
      "FDV_kt.index = FDV_kt.index/3600\n",
      "FDV_kt.plot(label='Average', color='k', linewidth=3.0, legend=False)\n",
      "plt.ylim(ymin=-0.05, ymax=1.05)\n",
      "plt.ylabel('Average FDV', fontsize=20)\n",
      "\n",
      "plt.subplot(1,2,2)\n",
      "FDV_kt = wntr.metrics.fdv(node_results_repair, average_nodes=True) # FDV, scenario k, time t\n",
      "FDV_kt.index = FDV_kt.index/3600\n",
      "FDV_kt.plot(label='Average', color='k', linewidth=3.0, legend=False)\n",
      "plt.ylim(ymin=-0.05, ymax=1.05)\n",
      "plt.ylabel('Averaege FDV', fontsize=20)\n",
      "\n",
      "plt.figure(figsize=(30,8), dpi=100)\n",
      "plt.subplot(1,2,1)\n",
      "pop = wntr.metrics.population(wn)\n",
      "pop_impacted = wntr.metrics.population_impacted(pop, FDV_knt, np.less, 0.8)\n",
      "pop_impacted.plot(ax=plt.gca(), legend=False)\n",
      "plt.ylabel('Population impacted per node', fontsize=20)\n",
      "\n",
      "plt.subplot(1,2,2)\n",
      "pop = wntr.metrics.population(wn)\n",
      "pop_impacted_wrepair = wntr.metrics.population_impacted(pop, FDV_knt_wrepair, np.less, 0.8)\n",
      "pop_impacted_wrepair.plot(ax=plt.gca(), legend=False)\n",
      "plt.ylabel('Population impacted per node', fontsize=20)\n",
      "\n",
      "plt.figure(figsize=(30,8), dpi=100)\n",
      "plt.subplot(1,2,1)\n",
      "pop_impacted.sum(axis=1).plot(label='Average', color='k', linewidth=3.0, legend=False)\n",
      "plt.ylabel('Total population impacted', fontsize=20)\n",
      "plt.xlabel('Time (hr)', fontsize=20)\n",
      "plt.ylim(ymin=0, ymax=pop.sum())\n",
      "\n",
      "plt.subplot(1,2,2)\n",
      "pop_impacted_wrepair.sum(axis=1).plot(label='Average', color='k', linewidth=3.0, legend=False)\n",
      "plt.ylabel('Total population impacted', fontsize=20)\n",
      "plt.xlabel('Time (hr)', fontsize=20)\n",
      "plt.ylim(ymin=0, ymax=pop.sum())"
     ],
     "language": "python",
     "metadata": {},
     "outputs": []
    },
    {
     "cell_type": "code",
     "collapsed": false,
     "input": [],
     "language": "python",
     "metadata": {},
     "outputs": []
    }
   ],
   "metadata": {}
  }
 ]
}